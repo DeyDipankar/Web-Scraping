{
 "cells": [
  {
   "cell_type": "code",
   "execution_count": 2,
   "id": "horizontal-investigator",
   "metadata": {},
   "outputs": [],
   "source": [
    "from autoscraper import AutoScraper"
   ]
  },
  {
   "cell_type": "code",
   "execution_count": 17,
   "id": "equal-aurora",
   "metadata": {},
   "outputs": [],
   "source": [
    "scraper = AutoScraper()\n",
    "flipkart_url = \"https://www.flipkart.com/search?q=iphone\"\n",
    "list_of_items = [\"APPLE iPhone SE (Black, 64 GB)\",\n",
    "                 \"₹49,999\"\n",
    "                ]"
   ]
  },
  {
   "cell_type": "code",
   "execution_count": 18,
   "id": "bacterial-republic",
   "metadata": {},
   "outputs": [
    {
     "name": "stdout",
     "output_type": "stream",
     "text": [
      "['APPLE iPhone 11 (Black, 64 GB)', 'APPLE iPhone SE (Black, 128 GB)', 'Apple iPhone XR (White, 128 GB) (Includes EarPods, Power Adapter)', 'APPLE iPhone SE (White, 64 GB)', 'APPLE iPhone SE (Black, 64 GB)', 'APPLE iPhone SE (White, 128 GB)', 'APPLE iPhone SE (Red, 128 GB)', 'APPLE iPhone 11 (Red, 64 GB)', 'Apple iPhone XR (Black, 128 GB) (Includes EarPods, Power Adapter)', 'APPLE iPhone 12 (Blue, 64 GB)', 'Apple iPhone XR (White, 64 GB) (Includes EarPods, Power Adapter)', 'APPLE iPhone 12 Mini (Black, 128 GB)', 'APPLE iPhone SE (Red, 64 GB)', 'Apple iPhone XR ((PRODUCT)RED, 64 GB) (Includes EarPods, Power Adapter)', 'APPLE iPhone 12 Mini (White, 128 GB)', 'APPLE iPhone 12 (Black, 128 GB)', 'APPLE iPhone 12 (White, 64 GB)', 'APPLE iPhone 12 (Green, 128 GB)', 'APPLE iPhone XR (Black, 64 GB)', 'APPLE iPhone 12 Mini (Blue, 128 GB)', 'APPLE iPhone 12 (Black, 64 GB)', 'APPLE iPhone 12 Pro (Pacific Blue, 256 GB)', 'APPLE iPhone 12 (Red, 64 GB)', 'APPLE iPhone 11 Pro (Midnight Green, 64 GB)', '₹49,999', '₹37,999', '₹46,999', '₹32,999', '₹77,900', '₹41,999', '₹72,900', '₹82,900', '₹1,25,900', '₹79,999']\n"
     ]
    }
   ],
   "source": [
    "result = scraper.build(url = flipkart_url,wanted_list = list_of_items)\n",
    "print(result)"
   ]
  },
  {
   "cell_type": "code",
   "execution_count": 20,
   "id": "about-checkout",
   "metadata": {},
   "outputs": [
    {
     "data": {
      "text/plain": [
       "{'rule_dath': ['APPLE iPhone SE (White, 64 GB)',\n",
       "  'APPLE iPhone SE (Black, 128 GB)',\n",
       "  'APPLE iPhone 11 (Black, 64 GB)',\n",
       "  'Apple iPhone XR (White, 64 GB) (Includes EarPods, Power Adapter)',\n",
       "  'Apple iPhone XR ((PRODUCT)RED, 128 GB) (Includes EarPods, Power Adapter)',\n",
       "  'Apple iPhone XR (White, 128 GB) (Includes EarPods, Power Adapter)',\n",
       "  'APPLE iPhone SE (White, 128 GB)',\n",
       "  'APPLE iPhone SE (Red, 128 GB)',\n",
       "  'APPLE iPhone SE (Black, 64 GB)',\n",
       "  'APPLE iPhone 12 Pro (Pacific Blue, 256 GB)',\n",
       "  'APPLE iPhone 12 (Blue, 64 GB)',\n",
       "  'Apple iPhone XR ((PRODUCT)RED, 64 GB) (Includes EarPods, Power Adapter)',\n",
       "  'APPLE iPhone 11 Pro (Midnight Green, 64 GB)',\n",
       "  'APPLE iPhone 12 (White, 64 GB)',\n",
       "  'APPLE iPhone 12 Mini (White, 128 GB)',\n",
       "  'APPLE iPhone 12 (Black, 128 GB)',\n",
       "  'APPLE iPhone 12 (Black, 64 GB)',\n",
       "  'APPLE iPhone 12 (White, 128 GB)',\n",
       "  'APPLE iPhone 11 (Black, 128 GB)',\n",
       "  'APPLE iPhone 12 Mini (Black, 128 GB)',\n",
       "  'APPLE iPhone 12 (Red, 64 GB)',\n",
       "  'APPLE iPhone 12 Mini (White, 64 GB)',\n",
       "  'APPLE iPhone 12 Mini (Black, 64 GB)',\n",
       "  'Apple iPhone SE (White, 256 GB) (Includes EarPods, Power Adapter)'],\n",
       " 'rule_hrn6': ['APPLE iPhone SE (White, 64 GB)',\n",
       "  'APPLE iPhone SE (Black, 128 GB)',\n",
       "  'APPLE iPhone 11 (Black, 64 GB)',\n",
       "  'Apple iPhone XR (White, 64 GB) (Includes EarPods, Power Adapter)',\n",
       "  'Apple iPhone XR ((PRODUCT)RED, 128 GB) (Includes EarPods, Power Adapter)',\n",
       "  'Apple iPhone XR (White, 128 GB) (Includes EarPods, Power Adapter)',\n",
       "  'APPLE iPhone SE (White, 128 GB)',\n",
       "  'APPLE iPhone SE (Red, 128 GB)',\n",
       "  'APPLE iPhone SE (Black, 64 GB)',\n",
       "  'APPLE iPhone 12 Pro (Pacific Blue, 256 GB)',\n",
       "  'APPLE iPhone 12 (Blue, 64 GB)',\n",
       "  'Apple iPhone XR ((PRODUCT)RED, 64 GB) (Includes EarPods, Power Adapter)',\n",
       "  'APPLE iPhone 11 Pro (Midnight Green, 64 GB)',\n",
       "  'APPLE iPhone 12 (White, 64 GB)',\n",
       "  'APPLE iPhone 12 Mini (White, 128 GB)',\n",
       "  'APPLE iPhone 12 (Black, 128 GB)',\n",
       "  'APPLE iPhone 12 (Black, 64 GB)',\n",
       "  'APPLE iPhone 12 (White, 128 GB)',\n",
       "  'APPLE iPhone 11 (Black, 128 GB)',\n",
       "  'APPLE iPhone 12 Mini (Black, 128 GB)',\n",
       "  'APPLE iPhone 12 (Red, 64 GB)',\n",
       "  'APPLE iPhone 12 Mini (White, 64 GB)',\n",
       "  'APPLE iPhone 12 Mini (Black, 64 GB)',\n",
       "  'Apple iPhone SE (White, 256 GB) (Includes EarPods, Power Adapter)'],\n",
       " 'rule_jekt': ['₹32,999',\n",
       "  '₹37,999',\n",
       "  '₹49,999',\n",
       "  '₹41,999',\n",
       "  '₹46,999',\n",
       "  '₹46,999',\n",
       "  '₹37,999',\n",
       "  '₹37,999',\n",
       "  '₹32,999',\n",
       "  '₹1,25,900',\n",
       "  '₹77,900',\n",
       "  '₹41,999',\n",
       "  '₹79,999',\n",
       "  '₹77,900',\n",
       "  '₹72,900',\n",
       "  '₹82,900',\n",
       "  '₹77,900',\n",
       "  '₹82,900',\n",
       "  '₹56,999',\n",
       "  '₹72,900',\n",
       "  '₹77,900',\n",
       "  '₹67,900',\n",
       "  '₹67,900',\n",
       "  '₹47,999'],\n",
       " 'rule_eptx': ['₹32,999',\n",
       "  '₹37,999',\n",
       "  '₹49,999',\n",
       "  '₹41,999',\n",
       "  '₹46,999',\n",
       "  '₹46,999',\n",
       "  '₹37,999',\n",
       "  '₹37,999',\n",
       "  '₹32,999',\n",
       "  '₹1,25,900',\n",
       "  '₹77,900',\n",
       "  '₹41,999',\n",
       "  '₹79,999',\n",
       "  '₹77,900',\n",
       "  '₹72,900',\n",
       "  '₹82,900',\n",
       "  '₹77,900',\n",
       "  '₹82,900',\n",
       "  '₹56,999',\n",
       "  '₹72,900',\n",
       "  '₹77,900',\n",
       "  '₹67,900',\n",
       "  '₹67,900',\n",
       "  '₹47,999']}"
      ]
     },
     "execution_count": 20,
     "metadata": {},
     "output_type": "execute_result"
    }
   ],
   "source": [
    "scraper.get_result_similar(flipkart_url, grouped = True)"
   ]
  },
  {
   "cell_type": "code",
   "execution_count": 15,
   "id": "involved-cycling",
   "metadata": {},
   "outputs": [
    {
     "ename": "KeyError",
     "evalue": "'rule_q8vl'",
     "output_type": "error",
     "traceback": [
      "\u001b[1;31m---------------------------------------------------------------------------\u001b[0m",
      "\u001b[1;31mKeyError\u001b[0m                                  Traceback (most recent call last)",
      "\u001b[1;32m<ipython-input-15-1126a614cd2e>\u001b[0m in \u001b[0;36m<module>\u001b[1;34m\u001b[0m\n\u001b[1;32m----> 1\u001b[1;33m \u001b[0mscraper\u001b[0m\u001b[1;33m.\u001b[0m\u001b[0mset_rule_aliases\u001b[0m\u001b[1;33m(\u001b[0m\u001b[1;33m{\u001b[0m\u001b[1;34m'rule_q8vl'\u001b[0m\u001b[1;33m:\u001b[0m\u001b[1;34m'Title'\u001b[0m\u001b[1;33m,\u001b[0m \u001b[1;34m'rule_5ui0'\u001b[0m\u001b[1;33m:\u001b[0m\u001b[1;34m'Price'\u001b[0m\u001b[1;33m}\u001b[0m\u001b[1;33m)\u001b[0m\u001b[1;33m\u001b[0m\u001b[1;33m\u001b[0m\u001b[0m\n\u001b[0m\u001b[0;32m      2\u001b[0m \u001b[0mscraper\u001b[0m\u001b[1;33m.\u001b[0m\u001b[0mkeep_rules\u001b[0m\u001b[1;33m(\u001b[0m\u001b[1;33m[\u001b[0m\u001b[1;34m'rule_u4gg'\u001b[0m\u001b[1;33m,\u001b[0m\u001b[1;34m'rule_5ui0'\u001b[0m\u001b[1;33m]\u001b[0m\u001b[1;33m)\u001b[0m\u001b[1;33m\u001b[0m\u001b[1;33m\u001b[0m\u001b[0m\n\u001b[0;32m      3\u001b[0m \u001b[0mscraper\u001b[0m\u001b[1;33m.\u001b[0m\u001b[0msave\u001b[0m\u001b[1;33m(\u001b[0m\u001b[1;34m'flipkart_title&prices'\u001b[0m\u001b[1;33m)\u001b[0m\u001b[1;33m\u001b[0m\u001b[1;33m\u001b[0m\u001b[0m\n",
      "\u001b[1;32mC:\\ProgramData\\Anaconda3\\envs\\bigbot\\lib\\site-packages\\autoscraper\\auto_scraper.py\u001b[0m in \u001b[0;36mset_rule_aliases\u001b[1;34m(self, rule_aliases)\u001b[0m\n\u001b[0;32m    705\u001b[0m         \u001b[0mid_to_stack\u001b[0m \u001b[1;33m=\u001b[0m \u001b[1;33m{\u001b[0m\u001b[0mstack\u001b[0m\u001b[1;33m[\u001b[0m\u001b[1;34m\"stack_id\"\u001b[0m\u001b[1;33m]\u001b[0m\u001b[1;33m:\u001b[0m \u001b[0mstack\u001b[0m \u001b[1;32mfor\u001b[0m \u001b[0mstack\u001b[0m \u001b[1;32min\u001b[0m \u001b[0mself\u001b[0m\u001b[1;33m.\u001b[0m\u001b[0mstack_list\u001b[0m\u001b[1;33m}\u001b[0m\u001b[1;33m\u001b[0m\u001b[1;33m\u001b[0m\u001b[0m\n\u001b[0;32m    706\u001b[0m         \u001b[1;32mfor\u001b[0m \u001b[0mrule_id\u001b[0m\u001b[1;33m,\u001b[0m \u001b[0malias\u001b[0m \u001b[1;32min\u001b[0m \u001b[0mrule_aliases\u001b[0m\u001b[1;33m.\u001b[0m\u001b[0mitems\u001b[0m\u001b[1;33m(\u001b[0m\u001b[1;33m)\u001b[0m\u001b[1;33m:\u001b[0m\u001b[1;33m\u001b[0m\u001b[1;33m\u001b[0m\u001b[0m\n\u001b[1;32m--> 707\u001b[1;33m             \u001b[0mid_to_stack\u001b[0m\u001b[1;33m[\u001b[0m\u001b[0mrule_id\u001b[0m\u001b[1;33m]\u001b[0m\u001b[1;33m[\u001b[0m\u001b[1;34m\"alias\"\u001b[0m\u001b[1;33m]\u001b[0m \u001b[1;33m=\u001b[0m \u001b[0malias\u001b[0m\u001b[1;33m\u001b[0m\u001b[1;33m\u001b[0m\u001b[0m\n\u001b[0m\u001b[0;32m    708\u001b[0m \u001b[1;33m\u001b[0m\u001b[0m\n\u001b[0;32m    709\u001b[0m     \u001b[1;32mdef\u001b[0m \u001b[0mgenerate_python_code\u001b[0m\u001b[1;33m(\u001b[0m\u001b[0mself\u001b[0m\u001b[1;33m)\u001b[0m\u001b[1;33m:\u001b[0m\u001b[1;33m\u001b[0m\u001b[1;33m\u001b[0m\u001b[0m\n",
      "\u001b[1;31mKeyError\u001b[0m: 'rule_q8vl'"
     ]
    }
   ],
   "source": [
    "scraper.set_rule_aliases({'rule_q8vl':'Title', 'rule_5ui0':'Price'})\n",
    "scraper.keep_rules(['rule_u4gg','rule_5ui0'])\n",
    "scraper.save('flipkart_title&prices')"
   ]
  },
  {
   "cell_type": "code",
   "execution_count": 13,
   "id": "private-giving",
   "metadata": {},
   "outputs": [
    {
     "name": "stdout",
     "output_type": "stream",
     "text": [
      "['APPLE iPhone 11 (Black, 64 GB)', 'APPLE iPhone SE (Black, 128 GB)', 'Apple iPhone XR (White, 128 GB) (Includes EarPods, Power Adapter)', 'APPLE iPhone SE (White, 64 GB)', 'APPLE iPhone SE (Black, 64 GB)', 'APPLE iPhone SE (White, 128 GB)', 'APPLE iPhone SE (Red, 128 GB)', 'APPLE iPhone 11 (Red, 64 GB)', 'Apple iPhone XR (Black, 128 GB) (Includes EarPods, Power Adapter)', 'APPLE iPhone 12 (Blue, 64 GB)', 'Apple iPhone XR (White, 64 GB) (Includes EarPods, Power Adapter)', 'APPLE iPhone 12 Mini (Black, 128 GB)', 'APPLE iPhone SE (Red, 64 GB)', 'Apple iPhone XR ((PRODUCT)RED, 64 GB) (Includes EarPods, Power Adapter)', 'APPLE iPhone 12 Mini (White, 128 GB)', 'APPLE iPhone 12 (Black, 128 GB)', 'APPLE iPhone 12 (White, 64 GB)', 'APPLE iPhone 12 (Green, 128 GB)', 'APPLE iPhone XR (Black, 64 GB)', 'APPLE iPhone 12 Mini (Blue, 128 GB)', 'APPLE iPhone 12 (Black, 64 GB)', 'APPLE iPhone 12 Pro (Pacific Blue, 256 GB)', 'APPLE iPhone 12 (Red, 64 GB)', 'APPLE iPhone 11 Pro (Midnight Green, 64 GB)']\n",
      "['₹32,999', '₹37,999', '₹49,999', '₹41,999', '₹46,999', '₹46,999', '₹37,999', '₹37,999', '₹32,999', '₹1,25,900', '₹77,900', '₹41,999', '₹79,999', '₹77,900', '₹72,900', '₹82,900', '₹77,900', '₹82,900', '₹56,999', '₹72,900', '₹77,900', '₹67,900', '₹67,900', '₹47,999']\n"
     ]
    }
   ],
   "source": [
    "iphone_title = scraper.get_result_similar(flipkart_url, group_by_alias = True)[\"Title\"]\n",
    "iphone_price = scraper.get_result_similar(flipkart_url, group_by_alias = True)[\"Price\"]\n",
    "print(iphone_title)\n",
    "print(iphone_price)"
   ]
  },
  {
   "cell_type": "code",
   "execution_count": 14,
   "id": "modular-perry",
   "metadata": {},
   "outputs": [
    {
     "data": {
      "text/plain": [
       "[('APPLE iPhone 11 (Black, 64 GB)', '₹32,999'),\n",
       " ('APPLE iPhone SE (Black, 128 GB)', '₹37,999'),\n",
       " ('Apple iPhone XR (White, 128 GB) (Includes EarPods, Power Adapter)',\n",
       "  '₹49,999'),\n",
       " ('APPLE iPhone SE (White, 64 GB)', '₹41,999'),\n",
       " ('APPLE iPhone SE (Black, 64 GB)', '₹46,999'),\n",
       " ('APPLE iPhone SE (White, 128 GB)', '₹46,999'),\n",
       " ('APPLE iPhone SE (Red, 128 GB)', '₹37,999'),\n",
       " ('APPLE iPhone 11 (Red, 64 GB)', '₹37,999'),\n",
       " ('Apple iPhone XR (Black, 128 GB) (Includes EarPods, Power Adapter)',\n",
       "  '₹32,999'),\n",
       " ('APPLE iPhone 12 (Blue, 64 GB)', '₹1,25,900'),\n",
       " ('Apple iPhone XR (White, 64 GB) (Includes EarPods, Power Adapter)',\n",
       "  '₹77,900'),\n",
       " ('APPLE iPhone 12 Mini (Black, 128 GB)', '₹41,999'),\n",
       " ('APPLE iPhone SE (Red, 64 GB)', '₹79,999'),\n",
       " ('Apple iPhone XR ((PRODUCT)RED, 64 GB) (Includes EarPods, Power Adapter)',\n",
       "  '₹77,900'),\n",
       " ('APPLE iPhone 12 Mini (White, 128 GB)', '₹72,900'),\n",
       " ('APPLE iPhone 12 (Black, 128 GB)', '₹82,900'),\n",
       " ('APPLE iPhone 12 (White, 64 GB)', '₹77,900'),\n",
       " ('APPLE iPhone 12 (Green, 128 GB)', '₹82,900'),\n",
       " ('APPLE iPhone XR (Black, 64 GB)', '₹56,999'),\n",
       " ('APPLE iPhone 12 Mini (Blue, 128 GB)', '₹72,900'),\n",
       " ('APPLE iPhone 12 (Black, 64 GB)', '₹77,900'),\n",
       " ('APPLE iPhone 12 Pro (Pacific Blue, 256 GB)', '₹67,900'),\n",
       " ('APPLE iPhone 12 (Red, 64 GB)', '₹67,900'),\n",
       " ('APPLE iPhone 11 Pro (Midnight Green, 64 GB)', '₹47,999')]"
      ]
     },
     "execution_count": 14,
     "metadata": {},
     "output_type": "execute_result"
    }
   ],
   "source": [
    "list(zip(iphone_title,iphone_price))"
   ]
  },
  {
   "cell_type": "code",
   "execution_count": null,
   "id": "fatty-zealand",
   "metadata": {},
   "outputs": [],
   "source": []
  }
 ],
 "metadata": {
  "kernelspec": {
   "display_name": "Python [conda env:bigbot]",
   "language": "python",
   "name": "conda-env-bigbot-py"
  },
  "language_info": {
   "codemirror_mode": {
    "name": "ipython",
    "version": 3
   },
   "file_extension": ".py",
   "mimetype": "text/x-python",
   "name": "python",
   "nbconvert_exporter": "python",
   "pygments_lexer": "ipython3",
   "version": "3.7.3"
  }
 },
 "nbformat": 4,
 "nbformat_minor": 5
}
