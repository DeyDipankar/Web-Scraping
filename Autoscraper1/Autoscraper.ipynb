{
 "cells": [
  {
   "cell_type": "markdown",
   "id": "tracked-round",
   "metadata": {},
   "source": [
    "!pip install autoscraper"
   ]
  },
  {
   "cell_type": "code",
   "execution_count": 3,
   "id": "subject-format",
   "metadata": {},
   "outputs": [],
   "source": [
    "from autoscraper import AutoScraper"
   ]
  },
  {
   "cell_type": "code",
   "execution_count": 57,
   "id": "smooth-report",
   "metadata": {},
   "outputs": [],
   "source": [
    "scraper = AutoScraper()\n",
    "amazon_url = \"https://www.amazon.in/s?k=iphone&i=electronics\"\n",
    "parameter_list = [\"₹80,499 \",\n",
    "                  \"New Apple iPhone 12 (128GB) - Purple\"\n",
    "]"
   ]
  },
  {
   "cell_type": "code",
   "execution_count": 58,
   "id": "integral-reminder",
   "metadata": {},
   "outputs": [
    {
     "name": "stdout",
     "output_type": "stream",
     "text": [
      "['₹68,900', '₹74,900', '₹80,230', '₹84,900', '₹70,900', '₹79,900', '₹1,24,700', '₹1,29,900', '₹64,900', '₹69,900', '₹68,500', '₹71,900', '₹62,999', '₹63,900', '₹96,900', '₹1,23,900', '₹1,849', '₹1,900', '₹699', '₹1,100', '₹399', '₹999', '₹1,099', '₹80,499', '₹1,15,100', '₹1,19,900', '₹72,900', '₹87,900', '₹1,17,100', '₹71,150', '₹2,999', '₹3,999', 'New Apple iPhone 12 Mini (128GB) - White', 'New Apple iPhone 12 (128GB) - Blue', 'New Apple iPhone 12 (64GB) - White', 'New Apple iPhone 12 Pro Max (128GB) - Pacific Blue', 'New Apple iPhone 12 Mini (64GB) - Black', 'New Apple iPhone 12 Mini (128GB) - Black', 'New Apple iPhone 12 (64GB) - Green', 'New Apple iPhone 12 Mini (64GB) - Green', 'New Apple iPhone 11 (256GB) - Black', 'New Apple iPhone 12 Mini (64GB) - White', 'Apple iPhone 11 Pro Max (256GB) - Midnight Green', 'Apple 20W USB-C Power Adapter (for iPhone, iPad & AirPods)', 'AmazonBasics Apple Certified Lightning to USB Charge and Sync Cable, 3 Feet (0.9 Meters) - Black', 'Sounce 2 in1 Splitter Earphone Converter and Phone Charger Charging and Audio Compatible for Phone Audio for Phone 11 X 7 8 Plus & OS Compatible - Black', 'Wayona Nylon Braided WN3LG1 USB Syncing and Charging Cable for iOS Devices (3 FT Pack of 1, Grey)', 'New Apple iPhone 12 (128GB) - Purple', 'New Apple iPhone 12 Pro (128GB) - Pacific Blue', 'New Apple iPhone 12 (64GB) - Black', 'New Apple iPhone 12 (64GB) - Blue', 'Apple iPhone 11 Pro Max (64GB) - Midnight Green', 'New Apple iPhone 12 Mini (128GB) - Green', 'Nillkin Compatible for iPhone 12 Pro Max Case, Cyclops Case with 2-in-1 Camera Cover & Kickstand, PC & TPU Impact-Resistant Bumpers Protective Case for iPhone 12 Pro Max 6.7 inch (2020) - Black', 'Sounce 2 in1 Splitter Earphone Converter and Phone Charger Charging and Audio Compatible for Phone Audio for Phone 11 X 7 ...', 'Nillkin Compatible for iPhone 12 Pro Max Case, Cyclops Case with 2-in-1 Camera Cover & Kickstand, PC & TPU Impact-Resistan...', '₹96,900.00₹96,900.00 ₹1,23,900.00₹1,23,900.00(22% off)']\n"
     ]
    }
   ],
   "source": [
    "result = scraper.build(amazon_url,parameter_list)\n",
    "print(result)"
   ]
  },
  {
   "cell_type": "code",
   "execution_count": 59,
   "id": "banned-olympus",
   "metadata": {},
   "outputs": [
    {
     "data": {
      "text/plain": [
       "{'rule_cisk': ['₹80,230',\n",
       "  '₹84,900',\n",
       "  '₹68,900',\n",
       "  '₹74,900',\n",
       "  '₹70,900',\n",
       "  '₹79,900',\n",
       "  '₹1,24,700',\n",
       "  '₹1,29,900',\n",
       "  '₹64,900',\n",
       "  '₹69,900',\n",
       "  '₹68,500',\n",
       "  '₹74,900',\n",
       "  '₹71,900',\n",
       "  '₹79,900',\n",
       "  '₹62,999',\n",
       "  '₹69,900',\n",
       "  '₹69,900',\n",
       "  '₹63,900',\n",
       "  '₹69,900',\n",
       "  '₹80,499',\n",
       "  '₹84,900',\n",
       "  '₹1,849',\n",
       "  '₹1,900',\n",
       "  '₹699',\n",
       "  '₹1,100',\n",
       "  '₹399',\n",
       "  '₹999',\n",
       "  '₹1,15,100',\n",
       "  '₹1,19,900',\n",
       "  '₹96,900',\n",
       "  '₹1,23,900',\n",
       "  '₹399',\n",
       "  '₹1,099',\n",
       "  '₹71,900',\n",
       "  '₹79,900',\n",
       "  '₹72,900',\n",
       "  '₹79,900',\n",
       "  '₹87,900',\n",
       "  '₹1,17,100',\n",
       "  '₹75,900',\n",
       "  '₹79,900',\n",
       "  '₹79,899',\n",
       "  '₹84,900'],\n",
       " 'rule_3d1d': ['₹80,230',\n",
       "  '₹84,900',\n",
       "  '₹68,900',\n",
       "  '₹74,900',\n",
       "  '₹70,900',\n",
       "  '₹79,900',\n",
       "  '₹1,24,700',\n",
       "  '₹1,29,900',\n",
       "  '₹64,900',\n",
       "  '₹69,900',\n",
       "  '₹68,500',\n",
       "  '₹74,900',\n",
       "  '₹71,900',\n",
       "  '₹79,900',\n",
       "  '₹62,999',\n",
       "  '₹69,900',\n",
       "  '₹69,900',\n",
       "  '₹63,900',\n",
       "  '₹69,900',\n",
       "  '₹80,499',\n",
       "  '₹84,900',\n",
       "  '₹1,849',\n",
       "  '₹1,900',\n",
       "  '₹699',\n",
       "  '₹1,100',\n",
       "  '₹399',\n",
       "  '₹999',\n",
       "  '₹1,15,100',\n",
       "  '₹1,19,900',\n",
       "  '₹96,900',\n",
       "  '₹1,23,900',\n",
       "  '₹399',\n",
       "  '₹1,099',\n",
       "  '₹71,900',\n",
       "  '₹79,900',\n",
       "  '₹72,900',\n",
       "  '₹79,900',\n",
       "  '₹87,900',\n",
       "  '₹1,17,100',\n",
       "  '₹75,900',\n",
       "  '₹79,900',\n",
       "  '₹79,899',\n",
       "  '₹84,900'],\n",
       " 'rule_spgb': ['New Apple iPhone 12 (128GB) - Blue',\n",
       "  'New Apple iPhone 12 Mini (128GB) - White',\n",
       "  'New Apple iPhone 12 (64GB) - White',\n",
       "  'New Apple iPhone 12 Pro Max (128GB) - Pacific Blue',\n",
       "  'New Apple iPhone 12 Mini (64GB) - Black',\n",
       "  'New Apple iPhone 12 Mini (128GB) - Black',\n",
       "  'New Apple iPhone 12 (64GB) - Green',\n",
       "  'New Apple iPhone 12 Mini (64GB) - Green',\n",
       "  'New Apple iPhone 11 (256GB) - Black',\n",
       "  'New Apple iPhone 12 Mini (64GB) - White',\n",
       "  'New Apple iPhone 12 (128GB) - Purple',\n",
       "  'Apple 20W USB-C Power Adapter (for iPhone, iPad & AirPods)',\n",
       "  'AmazonBasics Apple Certified Lightning to USB Charge and Sync Cable, 3 Feet (0.9 Meters) - Black',\n",
       "  'Sounce 2 in1 Splitter Earphone Converter and Phone Charger Charging and Audio Compatible for Phone Audio for Phone 11 X 7 8 Plus & OS Compatible - Black',\n",
       "  'New Apple iPhone 12 Pro (128GB) - Pacific Blue',\n",
       "  'Apple iPhone 11 Pro Max (256GB) - Midnight Green',\n",
       "  'Wayona Nylon Braided WN3LG1 USB Syncing and Charging Cable for iOS Devices (3 FT Pack of 1, Grey)',\n",
       "  'New Apple iPhone 12 (64GB) - Black',\n",
       "  'New Apple iPhone 12 (64GB) - Blue',\n",
       "  'Apple iPhone 11 Pro Max (64GB) - Midnight Green',\n",
       "  'New Apple iPhone 12 (64GB) - Purple',\n",
       "  'New Apple iPhone 12 (128GB) - Black'],\n",
       " 'rule_2bwp': ['New Apple iPhone 12 (128GB) - Blue',\n",
       "  'New Apple iPhone 12 Mini (128GB) - White',\n",
       "  'New Apple iPhone 12 (64GB) - White',\n",
       "  'New Apple iPhone 12 Pro Max (128GB) - Pacific Blue',\n",
       "  'New Apple iPhone 12 Mini (64GB) - Black',\n",
       "  'New Apple iPhone 12 Mini (128GB) - Black',\n",
       "  'New Apple iPhone 12 (64GB) - Green',\n",
       "  'New Apple iPhone 12 Mini (64GB) - Green',\n",
       "  'New Apple iPhone 11 (256GB) - Black',\n",
       "  'New Apple iPhone 12 Mini (64GB) - White',\n",
       "  'New Apple iPhone 12 (128GB) - Purple',\n",
       "  'Apple 20W USB-C Power Adapter (for iPhone, iPad & AirPods)',\n",
       "  'AmazonBasics Apple Certified Lightning to USB Charge and Sync Cable, 3 Feet (0.9 Meters) - Black',\n",
       "  'Sounce 2 in1 Splitter Earphone Converter and Phone Charger Charging and Audio Compatible for Phone Audio for Phone 11 X 7 ...',\n",
       "  'New Apple iPhone 12 Pro (128GB) - Pacific Blue',\n",
       "  'Apple iPhone 11 Pro Max (256GB) - Midnight Green',\n",
       "  'Wayona Nylon Braided WN3LG1 USB Syncing and Charging Cable for iOS Devices (3 FT Pack of 1, Grey)',\n",
       "  'New Apple iPhone 12 (64GB) - Black',\n",
       "  'New Apple iPhone 12 (64GB) - Blue',\n",
       "  'Apple iPhone 11 Pro Max (64GB) - Midnight Green',\n",
       "  'New Apple iPhone 12 (64GB) - Purple',\n",
       "  'New Apple iPhone 12 (128GB) - Black'],\n",
       " 'rule_33yy': ['New Apple iPhone 12 (128GB) - Purple',\n",
       "  '₹96,900.00₹96,900.00 ₹1,23,900.00₹1,23,900.00(22% off)'],\n",
       " 'rule_5sx2': ['New Apple iPhone 12 (128GB) - Purple',\n",
       "  'Apple iPhone 11 Pro Max (256GB) - Midnight Green']}"
      ]
     },
     "execution_count": 59,
     "metadata": {},
     "output_type": "execute_result"
    }
   ],
   "source": [
    "scraper.get_result_similar(amazon_url,grouped = True)"
   ]
  },
  {
   "cell_type": "code",
   "execution_count": 61,
   "id": "powerful-hearts",
   "metadata": {},
   "outputs": [],
   "source": [
    "scraper.set_rule_aliases({'rule_spgb':'Title', 'rule_cisk':'Price' })\n",
    "scraper.keep_rules(['rule_spgb', 'rule_cisk'])\n",
    "scraper.save('amazon_search_title')"
   ]
  },
  {
   "cell_type": "code",
   "execution_count": 63,
   "id": "identified-brave",
   "metadata": {},
   "outputs": [],
   "source": [
    "iphone_url = amazon_url\n",
    "result_iphone_title = scraper.get_result_similar(iphone_url,group_by_alias = True)['Title']\n",
    "result_iphone_price = scraper.get_result_similar(iphone_url,group_by_alias = True)['Price']"
   ]
  },
  {
   "cell_type": "code",
   "execution_count": 64,
   "id": "postal-preliminary",
   "metadata": {},
   "outputs": [
    {
     "data": {
      "text/plain": [
       "(22, 41)"
      ]
     },
     "execution_count": 64,
     "metadata": {},
     "output_type": "execute_result"
    }
   ],
   "source": [
    "len(result_iphone_title),len(result_iphone_price)"
   ]
  },
  {
   "cell_type": "code",
   "execution_count": 66,
   "id": "advance-split",
   "metadata": {
    "scrolled": true
   },
   "outputs": [],
   "source": [
    "mi_phone_url = \"https://www.amazon.in/s?k=MI+phone&rh=n%3A1389432031&ref=nb_sb_noss\"\n",
    "result_mi_title = scraper.get_result_similar(mi_phone_url,group_by_alias = True)['Title']\n",
    "result_mi_price = scraper.get_result_similar(mi_phone_url,group_by_alias = True)['Price']"
   ]
  },
  {
   "cell_type": "code",
   "execution_count": 67,
   "id": "unable-league",
   "metadata": {},
   "outputs": [
    {
     "data": {
      "text/plain": [
       "(23, 43)"
      ]
     },
     "execution_count": 67,
     "metadata": {},
     "output_type": "execute_result"
    }
   ],
   "source": [
    "len(result_mi_title),len(result_mi_price)"
   ]
  },
  {
   "cell_type": "code",
   "execution_count": null,
   "id": "revised-percentage",
   "metadata": {},
   "outputs": [],
   "source": []
  }
 ],
 "metadata": {
  "kernelspec": {
   "display_name": "Python [conda env:bigbot]",
   "language": "python",
   "name": "conda-env-bigbot-py"
  },
  "language_info": {
   "codemirror_mode": {
    "name": "ipython",
    "version": 3
   },
   "file_extension": ".py",
   "mimetype": "text/x-python",
   "name": "python",
   "nbconvert_exporter": "python",
   "pygments_lexer": "ipython3",
   "version": "3.7.3"
  }
 },
 "nbformat": 4,
 "nbformat_minor": 5
}
